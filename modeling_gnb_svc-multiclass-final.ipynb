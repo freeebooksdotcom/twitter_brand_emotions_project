{
 "cells": [
  {
   "cell_type": "code",
   "execution_count": 1,
   "metadata": {},
   "outputs": [],
   "source": [
    "import pandas as pd\n",
    "import numpy as np\n",
    "from sklearn.naive_bayes import GaussianNB, MultinomialNB\n",
    "from sklearn.metrics import accuracy_score, f1_score, confusion_matrix\n",
    "#maybe not useful:\n",
    "from sklearn.feature_extraction.text import TfidfVectorizer\n",
    "from sklearn.model_selection import train_test_split\n",
    "from sklearn.utils import resample\n",
    "import seaborn as sns\n",
    "import matplotlib.pyplot as plt\n",
    "from sklearn.metrics import f1_score, balanced_accuracy_score\n",
    "from sklearn.svm import SVC"
   ]
  },
  {
   "cell_type": "code",
   "execution_count": 5,
   "metadata": {},
   "outputs": [],
   "source": [
    "df = pd.read_csv('../data/final.csv')"
   ]
  },
  {
   "cell_type": "code",
   "execution_count": 7,
   "metadata": {},
   "outputs": [],
   "source": [
    "df.drop(index=6, axis=0, inplace=True)"
   ]
  },
  {
   "cell_type": "code",
   "execution_count": 8,
   "metadata": {},
   "outputs": [
    {
     "data": {
      "text/plain": [
       "(8935, 10)"
      ]
     },
     "execution_count": 8,
     "metadata": {},
     "output_type": "execute_result"
    }
   ],
   "source": [
    "df.shape"
   ]
  },
  {
   "cell_type": "code",
   "execution_count": 9,
   "metadata": {},
   "outputs": [
    {
     "data": {
      "text/plain": [
       "0       .@wesley83 3 G iPhone 3 hrs tweet rise_austin ...\n",
       "1       @jessedee know @fludapp Awesome iPad iPhone ap...\n",
       "2                       @swonderlin wait iPad 2 sale SXSW\n",
       "3       @sxsw hope year festival crashy year iPhone ap...\n",
       "4       @sxtxstate great stuff Fri SXSW Marissa Mayer ...\n",
       "                              ...                        \n",
       "8931                                       Ipad SXSW link\n",
       "8932    wave buzz rt @mention interrupt regularly sche...\n",
       "8933    Google Zeiger physician report potential ae FD...\n",
       "8934    Verizon iPhone customer complain time fall hou...\n",
       "8935       RT @mention Google Tests check offer SXSW link\n",
       "Name: doc, Length: 8935, dtype: object"
      ]
     },
     "execution_count": 9,
     "metadata": {},
     "output_type": "execute_result"
    }
   ],
   "source": [
    "target = df[\"target\"]\n",
    "features = df['doc']\n",
    "features"
   ]
  },
  {
   "cell_type": "code",
   "execution_count": 10,
   "metadata": {},
   "outputs": [
    {
     "data": {
      "text/plain": [
       "(8935,)"
      ]
     },
     "execution_count": 10,
     "metadata": {},
     "output_type": "execute_result"
    }
   ],
   "source": [
    "target.shape"
   ]
  },
  {
   "cell_type": "code",
   "execution_count": 11,
   "metadata": {},
   "outputs": [
    {
     "data": {
      "text/plain": [
       "(8935,)"
      ]
     },
     "execution_count": 11,
     "metadata": {},
     "output_type": "execute_result"
    }
   ],
   "source": [
    "features.shape"
   ]
  },
  {
   "cell_type": "markdown",
   "metadata": {},
   "source": [
    "### Train Test Split"
   ]
  },
  {
   "cell_type": "code",
   "execution_count": 12,
   "metadata": {},
   "outputs": [],
   "source": [
    "x_full, x_test, y_full, y_test = train_test_split(features, target, test_size=.2, random_state=10)\n",
    "x_train, x_val, y_train, y_val = train_test_split(x_full, y_full, test_size=.2, random_state=10)"
   ]
  },
  {
   "cell_type": "markdown",
   "metadata": {},
   "source": [
    "## Feature Engineering\n"
   ]
  },
  {
   "cell_type": "code",
   "execution_count": 13,
   "metadata": {},
   "outputs": [],
   "source": [
    "tf = TfidfVectorizer()"
   ]
  },
  {
   "cell_type": "code",
   "execution_count": 14,
   "metadata": {},
   "outputs": [],
   "source": [
    "tf_train = tf.fit_transform(x_train)\n",
    "tf_val = tf.transform(x_val)\n",
    "train_df = pd.DataFrame(tf_train.todense(), columns=tf.get_feature_names())\n",
    "val_df = pd.DataFrame(tf_val.todense(), columns=tf.get_feature_names())"
   ]
  },
  {
   "cell_type": "markdown",
   "metadata": {},
   "source": [
    "### Resampling"
   ]
  },
  {
   "cell_type": "code",
   "execution_count": 15,
   "metadata": {},
   "outputs": [
    {
     "data": {
      "text/plain": [
       "0    3436\n",
       "2    1912\n",
       "1     370\n",
       "Name: target, dtype: int64"
      ]
     },
     "execution_count": 15,
     "metadata": {},
     "output_type": "execute_result"
    }
   ],
   "source": [
    "y_train.value_counts()"
   ]
  },
  {
   "cell_type": "code",
   "execution_count": 16,
   "metadata": {},
   "outputs": [],
   "source": [
    "y_train = y_train.reset_index()[\"target\"]"
   ]
  },
  {
   "cell_type": "code",
   "execution_count": 17,
   "metadata": {},
   "outputs": [],
   "source": [
    "neutral_train_index = y_train[y_train==0]\n",
    "negative_train_index = y_train[y_train==1]\n",
    "positive_train_index = y_train[y_train==2]"
   ]
  },
  {
   "cell_type": "code",
   "execution_count": 20,
   "metadata": {},
   "outputs": [
    {
     "data": {
      "text/plain": [
       "(370, 6695)"
      ]
     },
     "metadata": {},
     "output_type": "display_data"
    },
    {
     "data": {
      "text/plain": [
       "(1912, 6695)"
      ]
     },
     "metadata": {},
     "output_type": "display_data"
    },
    {
     "data": {
      "text/plain": [
       "(3066, 6695)"
      ]
     },
     "metadata": {},
     "output_type": "display_data"
    },
    {
     "data": {
      "text/plain": [
       "(1524, 6695)"
      ]
     },
     "metadata": {},
     "output_type": "display_data"
    },
    {
     "data": {
      "text/plain": [
       "(3436, 6695)"
      ]
     },
     "metadata": {},
     "output_type": "display_data"
    },
    {
     "data": {
      "text/plain": [
       "(10308, 6695)"
      ]
     },
     "metadata": {},
     "output_type": "display_data"
    }
   ],
   "source": [
    "neu_train = train_df.loc[neutral_train_index.index]\n",
    "neu_train[\"TARGETXXXX\"] = 0\n",
    "neg_train = train_df.loc[negative_train_index.index]\n",
    "neg_train[\"TARGETXXXX\"] = 1\n",
    "pos_train = train_df.loc[positive_train_index.index]\n",
    "pos_train[\"TARGETXXXX\"] = 2\n",
    "\n",
    "neg_upsample = resample(neg_train,\n",
    "                        replace = True,\n",
    "                        n_samples = neu_train.shape[0] - neg_train.shape[0]\n",
    "                       )\n",
    "pos_upsample = resample(pos_train,\n",
    "                        replace = True,\n",
    "                        n_samples = neu_train.shape[0] - pos_train.shape[0]\n",
    "                       )\n",
    "\n",
    "display(neg_train.shape)\n",
    "display(pos_train.shape)\n",
    "display(neg_upsample.shape)\n",
    "display(pos_upsample.shape)\n",
    "display(neu_train.shape)\n",
    "\n",
    "resampled_train = pd.concat([neu_train, neg_upsample, neg_train,\n",
    "                             pos_upsample, pos_train\n",
    "                             ],\n",
    "                            ignore_index = True)\n",
    "\n",
    "display(resampled_train.shape)\n",
    "\n",
    "#x_train = resampled_train\n",
    "resampled_y_train = resampled_train[\"TARGETXXXX\"]\n",
    "#y_train = y_train[\"target\"]\n",
    "resampled_train.drop([\"TARGETXXXX\"], axis = 1, inplace = True)"
   ]
  },
  {
   "cell_type": "code",
   "execution_count": 21,
   "metadata": {},
   "outputs": [
    {
     "data": {
      "text/plain": [
       "2    3436\n",
       "1    3436\n",
       "0    3436\n",
       "Name: TARGETXXXX, dtype: int64"
      ]
     },
     "execution_count": 21,
     "metadata": {},
     "output_type": "execute_result"
    }
   ],
   "source": [
    "resampled_y_train.value_counts()"
   ]
  },
  {
   "cell_type": "code",
   "execution_count": 23,
   "metadata": {},
   "outputs": [
    {
     "data": {
      "text/plain": [
       "((10308, 6694), (10308,))"
      ]
     },
     "execution_count": 23,
     "metadata": {},
     "output_type": "execute_result"
    }
   ],
   "source": [
    "resampled_train.shape, resampled_y_train.shape"
   ]
  },
  {
   "cell_type": "code",
   "execution_count": 24,
   "metadata": {},
   "outputs": [],
   "source": [
    "from sklearn.dummy import DummyClassifier"
   ]
  },
  {
   "cell_type": "code",
   "execution_count": 25,
   "metadata": {},
   "outputs": [
    {
     "name": "stderr",
     "output_type": "stream",
     "text": [
      "/opt/anaconda3/lib/python3.7/site-packages/sklearn/dummy.py:132: FutureWarning: The default value of strategy will change from stratified to prior in 0.24.\n",
      "  \"stratified to prior in 0.24.\", FutureWarning)\n"
     ]
    },
    {
     "data": {
      "text/plain": [
       "0.3174153976287171"
      ]
     },
     "execution_count": 25,
     "metadata": {},
     "output_type": "execute_result"
    }
   ],
   "source": [
    "dc = DummyClassifier()\n",
    "dc.fit(X=resampled_train, y=resampled_y_train)\n",
    "dcpred = dc.predict(val_df)\n",
    "f1_score(dcpred, y_val, average='macro')"
   ]
  },
  {
   "cell_type": "markdown",
   "metadata": {},
   "source": [
    "### Naive Bayes"
   ]
  },
  {
   "cell_type": "code",
   "execution_count": 50,
   "metadata": {},
   "outputs": [],
   "source": [
    "gnb = GaussianNB()"
   ]
  },
  {
   "cell_type": "code",
   "execution_count": 55,
   "metadata": {
    "scrolled": true
   },
   "outputs": [],
   "source": [
    "gnb.fit(resampled_train, resampled_y_train)\n",
    "gnb_pred = gnb.predict(val_df)"
   ]
  },
  {
   "cell_type": "code",
   "execution_count": 56,
   "metadata": {
    "scrolled": true
   },
   "outputs": [
    {
     "data": {
      "text/plain": [
       "0.4258741258741259"
      ]
     },
     "execution_count": 56,
     "metadata": {},
     "output_type": "execute_result"
    }
   ],
   "source": [
    "accuracy_score(gnb_pred, y_val)"
   ]
  },
  {
   "cell_type": "code",
   "execution_count": 57,
   "metadata": {
    "scrolled": true
   },
   "outputs": [
    {
     "data": {
      "text/plain": [
       "array([[318, 188, 363],\n",
       "       [ 29,  32,  31],\n",
       "       [126,  84, 259]])"
      ]
     },
     "execution_count": 57,
     "metadata": {},
     "output_type": "execute_result"
    }
   ],
   "source": [
    "naive = confusion_matrix(y_val,gnb_pred)\n",
    "naive"
   ]
  },
  {
   "cell_type": "code",
   "execution_count": 59,
   "metadata": {},
   "outputs": [
    {
     "data": {
      "text/plain": [
       "Text(0.5, 1, 'Naive Bayes Resampled Confusion Matrix')"
      ]
     },
     "execution_count": 59,
     "metadata": {},
     "output_type": "execute_result"
    },
    {
     "data": {
      "image/png": "[encoded data removed]",
      "text/plain": [
       "<Figure size 432x288 with 2 Axes>"
      ]
     },
     "metadata": {
      "needs_background": "light"
     },
     "output_type": "display_data"
    }
   ],
   "source": [
    "ax0 = plt.axes()\n",
    "sns.heatmap(naive,\n",
    "            annot=True,\n",
    "            xticklabels = [\"Ntl label\", \"Neg label\", \"Pos label\"],\n",
    "            yticklabels = [\"Neutral\", \"Negative\", \"Positive\"],\n",
    "            fmt = 'g'\n",
    "           )\n",
    "ax0.set_title(\"Naive Bayes Resampled Confusion Matrix\")"
   ]
  },
  {
   "cell_type": "code",
   "execution_count": 30,
   "metadata": {
    "scrolled": true
   },
   "outputs": [
    {
     "data": {
      "text/plain": [
       "0.401936643954703"
      ]
     },
     "execution_count": 30,
     "metadata": {},
     "output_type": "execute_result"
    }
   ],
   "source": [
    "f1_score(y_pred, y_val, average='weighted')"
   ]
  },
  {
   "cell_type": "markdown",
   "metadata": {},
   "source": [
    "### Multinomial Bayes"
   ]
  },
  {
   "cell_type": "code",
   "execution_count": 39,
   "metadata": {},
   "outputs": [
    {
     "name": "stdout",
     "output_type": "stream",
     "text": [
      "resampled search\n",
      "0.3 0.5050870640921772 f1macro\n",
      "0.4 0.5066694700393981 f1macro\n",
      "0.5 0.5091413060414464 f1macro\n",
      "0.6 0.5129012909998584 f1macro\n",
      "0.7 0.5181412047445917 f1macro\n",
      "0.8 0.523318852996957 f1macro\n",
      "0.9 0.5210440384148 f1macro\n",
      "1.0 0.5235936814423288 f1macro\n",
      "1.1 0.5221141687260116 f1macro\n",
      "1.2 0.5216832869366542 f1macro\n",
      "1.3 0.519675435945766 f1macro\n",
      "1.4 0.5210828089241916 f1macro\n",
      "1.5 0.5180038675361248 f1macro\n",
      "1.6 0.5157911953470434 f1macro\n",
      "1.7 0.5129846155972991 f1macro\n",
      "1.8 0.5105025352782878 f1macro\n",
      "1.9 0.508395525027836 f1macro\n"
     ]
    }
   ],
   "source": [
    "print(\"resampled search\")\n",
    "resampled_di = {}\n",
    "for i in range(3,20):\n",
    "    mnb = MultinomialNB(alpha=i/10)\n",
    "    mnb.fit(resampled_train, resampled_y_train)\n",
    "    y_pred = mnb.predict(val_df)\n",
    "    resampled_di[i/10] = y_pred\n",
    "    print(i/10, f1_score(y_pred, y_val, average='macro'), \"f1macro\")"
   ]
  },
  {
   "cell_type": "code",
   "execution_count": 60,
   "metadata": {},
   "outputs": [
    {
     "data": {
      "image/png": "[encoded data removed]",
      "text/plain": [
       "<Figure size 432x288 with 2 Axes>"
      ]
     },
     "metadata": {
      "needs_background": "light"
     },
     "output_type": "display_data"
    }
   ],
   "source": [
    "re_matrix = confusion_matrix(y_val, resampled_di[1])\n",
    "ax1 = plt.axes()\n",
    "sns.heatmap(re_matrix,\n",
    "            annot=True,\n",
    "            xticklabels = [\"Ntl label\", \"Neg label\", \"Pos label\"],\n",
    "            yticklabels = [\"Neutral\", \"Negative\", \"Positive\"],\n",
    "            fmt = 'g'\n",
    "           )\n",
    "ax1.set_title(\"Resampled Multinomial Bayes Confusion Matrix\")\n",
    "plt.savefig(\"../images/remulti.png\")"
   ]
  },
  {
   "cell_type": "code",
   "execution_count": 61,
   "metadata": {
    "scrolled": true
   },
   "outputs": [
    {
     "name": "stdout",
     "output_type": "stream",
     "text": [
      "unsampled search\n",
      "0.1 0.5048471283625339 f1macro\n",
      "0.2 0.4869539320777619 f1macro\n",
      "0.3 0.4611552551168519 f1macro\n",
      "0.4 0.44833852129725704 f1macro\n",
      "0.5 0.4396150136090784 f1macro\n",
      "0.6 0.4339446923762138 f1macro\n",
      "0.7 0.4238859059366906 f1macro\n",
      "0.8 0.4106045767826962 f1macro\n",
      "0.9 0.39735452990416037 f1macro\n",
      "1.0 0.390137492486416 f1macro\n",
      "1.1 0.3854059503828368 f1macro\n",
      "1.2 0.37367566280125636 f1macro\n",
      "1.3 0.36851655156850155 f1macro\n",
      "1.4 0.353166399016634 f1macro\n"
     ]
    }
   ],
   "source": [
    "print(\"unsampled search\")\n",
    "unsampled_di = {}\n",
    "for i in range(1,15):\n",
    "    mnb = MultinomialNB(alpha=i/10)\n",
    "    mnb.fit(train_df, y_train)\n",
    "    y_pred = mnb.predict(val_df)\n",
    "    unsampled_di[i/10] = y_pred\n",
    "    print(i/10, f1_score(y_pred, y_val, average='macro'), \"f1macro\")"
   ]
  },
  {
   "cell_type": "code",
   "execution_count": 62,
   "metadata": {
    "scrolled": true
   },
   "outputs": [
    {
     "data": {
      "image/png": "[encoded data removed]",
      "text/plain": [
       "<Figure size 432x288 with 2 Axes>"
      ]
     },
     "metadata": {
      "needs_background": "light"
     },
     "output_type": "display_data"
    }
   ],
   "source": [
    "un_matrix = confusion_matrix(y_val, unsampled_di[.1])\n",
    "ax2 = plt.axes()\n",
    "sns.heatmap(un_matrix,\n",
    "            annot=True,\n",
    "            xticklabels = [\"Ntl label\", \"Neg label\", \"Pos label\"],\n",
    "            yticklabels = [\"Neutral\", \"Negative\", \"Positive\"],\n",
    "            fmt = 'g'\n",
    "           )\n",
    "ax2.set_title(\"Unsampled Multinomial Bayes Confusion Matrix\")\n",
    "plt.savefig(\"../images/unmulti.png\")"
   ]
  },
  {
   "cell_type": "code",
   "execution_count": 68,
   "metadata": {},
   "outputs": [
    {
     "data": {
      "text/plain": [
       "array([0, 0, 2, ..., 0, 2, 0])"
      ]
     },
     "execution_count": 68,
     "metadata": {},
     "output_type": "execute_result"
    }
   ],
   "source": [
    "y_val.values"
   ]
  },
  {
   "cell_type": "code",
   "execution_count": 75,
   "metadata": {},
   "outputs": [],
   "source": [
    "results = pd.DataFrame([y_val.values, resampled_di[1], x_val.reset_index()[\"doc\"]]).T"
   ]
  },
  {
   "cell_type": "code",
   "execution_count": 77,
   "metadata": {},
   "outputs": [
    {
     "data": {
      "text/plain": [
       "1       RT @mention SXSW crowd swarm iPad2 launch link...\n",
       "5       bring lunch take train SXSW day earn iPad frug...\n",
       "9                  wonder @mention come sxsw iPad 2 maybe\n",
       "11      RT @mention Official SXSW App SXSW link androi...\n",
       "12                     Apple SXSW store iPad 2 short line\n",
       "                              ...                        \n",
       "1406    quit fight sxsw ipad2 @mention Apple Store SXS...\n",
       "1410    technology lightbox_photos want new Android Ca...\n",
       "1419    SXSW Interactive Googles Mobile Future amp Elu...\n",
       "1420        @mention @mention party doubt good party SXSW\n",
       "1429                             download SXSW app Iphone\n",
       "Name: 2, Length: 584, dtype: object"
      ]
     },
     "execution_count": 77,
     "metadata": {},
     "output_type": "execute_result"
    }
   ],
   "source": [
    "results.loc[results[0]!=results[1]][2]"
   ]
  },
  {
   "cell_type": "code",
   "execution_count": null,
   "metadata": {},
   "outputs": [],
   "source": []
  }
 ],
 "metadata": {
  "kernelspec": {
   "display_name": "Python 3",
   "language": "python",
   "name": "python3"
  },
  "language_info": {
   "codemirror_mode": {
    "name": "ipython",
    "version": 3
   },
   "file_extension": ".py",
   "mimetype": "text/x-python",
   "name": "python",
   "nbconvert_exporter": "python",
   "pygments_lexer": "ipython3",
   "version": "3.7.6"
  }
 },
 "nbformat": 4,
 "nbformat_minor": 4
}
